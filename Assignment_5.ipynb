{
 "cells": [
  {
   "cell_type": "markdown",
   "id": "c67603b7",
   "metadata": {},
   "source": [
    "# Assignment5\n",
    "\n",
    "## Ground Cricket Chirps\n",
    "\n",
    "In The Song of Insects (1948) by George W. Pierce, Pierce mechanically measured the frequency (the number of wing vibrations per second) of chirps (or pulses of sound) made by a striped ground cricket, at various ground temperatures. Since crickets are ectotherms (cold-blooded), the rate of their physiological processes and their overall metabolism are influenced by temperature. Consequently, there is reason to believe that temperature would have a profound effect on aspects of their behavior, such as chirp frequency.\n",
    "\n",
    "In general, it was found that crickets did not sing at temperatures colder than 60º F. or warmer than 100º F."
   ]
  },
  {
   "cell_type": "markdown",
   "id": "da91f306",
   "metadata": {},
   "source": [
    "# Tasks\n",
    "\n",
    "1. Find the linear regression equation for this data.\n",
    "2. Chart the original data and the equation on the chart.\n",
    "3. Find the equation's  R2  score (use the .score method) to determine whether the equation is a good fit for this data. (0.8      and greater is considered a strong correlation.)\n",
    "4. Extrapolate data: If the ground temperature reached 95, then at what approximate rate would you expect the crickets to be      chirping?\n",
    "5. Interpolate data: With a listening device, you discovered that on a particular morning the crickets were chirping at a rate    of 18 chirps per second. What was the approximate ground temperature that morning?"
   ]
  },
  {
   "cell_type": "markdown",
   "id": "13256727",
   "metadata": {},
   "source": [
    "1. Find the linear regression equation for this data."
   ]
  },
  {
   "cell_type": "code",
   "execution_count": 2,
   "id": "bf14ae28",
   "metadata": {},
   "outputs": [],
   "source": [
    "import pandas as pd\n",
    "import matplotlib.pyplot as plt\n",
    "import numpy as np\n",
    "from sklearn import linear_model"
   ]
  },
  {
   "cell_type": "code",
   "execution_count": 3,
   "id": "9cd023fc",
   "metadata": {},
   "outputs": [],
   "source": [
    "ground_cricket_data = {\"Chirps/Second\": [20.0, 16.0, 19.8, 18.4, 17.1, 15.5, 14.7,\n",
    "                                         15.7, 15.4, 16.3, 15.0, 17.2, 16.0, 17.0,\n",
    "                                         14.4],\n",
    "                       \"Ground Temperature\": [88.6, 71.6, 93.3, 84.3, 80.6, 75.2, 69.7,\n",
    "                                              71.6, 69.4, 83.3, 79.6, 82.6, 80.6, 83.5,\n",
    "                                              76.3]}\n",
    "df = pd.DataFrame(ground_cricket_data)"
   ]
  },
  {
   "cell_type": "code",
   "execution_count": 4,
   "id": "789e98b1",
   "metadata": {},
   "outputs": [
    {
     "name": "stdout",
     "output_type": "stream",
     "text": [
      "<class 'pandas.core.frame.DataFrame'>\n",
      "RangeIndex: 15 entries, 0 to 14\n",
      "Data columns (total 2 columns):\n",
      " #   Column              Non-Null Count  Dtype  \n",
      "---  ------              --------------  -----  \n",
      " 0   Chirps/Second       15 non-null     float64\n",
      " 1   Ground Temperature  15 non-null     float64\n",
      "dtypes: float64(2)\n",
      "memory usage: 368.0 bytes\n"
     ]
    }
   ],
   "source": [
    "df.info()"
   ]
  },
  {
   "cell_type": "code",
   "execution_count": 5,
   "id": "bf45d676",
   "metadata": {},
   "outputs": [
    {
     "data": {
      "text/html": [
       "<div>\n",
       "<style scoped>\n",
       "    .dataframe tbody tr th:only-of-type {\n",
       "        vertical-align: middle;\n",
       "    }\n",
       "\n",
       "    .dataframe tbody tr th {\n",
       "        vertical-align: top;\n",
       "    }\n",
       "\n",
       "    .dataframe thead th {\n",
       "        text-align: right;\n",
       "    }\n",
       "</style>\n",
       "<table border=\"1\" class=\"dataframe\">\n",
       "  <thead>\n",
       "    <tr style=\"text-align: right;\">\n",
       "      <th></th>\n",
       "      <th>Chirps/Second</th>\n",
       "      <th>Ground Temperature</th>\n",
       "    </tr>\n",
       "  </thead>\n",
       "  <tbody>\n",
       "    <tr>\n",
       "      <th>count</th>\n",
       "      <td>15.000000</td>\n",
       "      <td>15.000000</td>\n",
       "    </tr>\n",
       "    <tr>\n",
       "      <th>mean</th>\n",
       "      <td>16.566667</td>\n",
       "      <td>79.346667</td>\n",
       "    </tr>\n",
       "    <tr>\n",
       "      <th>std</th>\n",
       "      <td>1.712837</td>\n",
       "      <td>7.020467</td>\n",
       "    </tr>\n",
       "    <tr>\n",
       "      <th>min</th>\n",
       "      <td>14.400000</td>\n",
       "      <td>69.400000</td>\n",
       "    </tr>\n",
       "    <tr>\n",
       "      <th>25%</th>\n",
       "      <td>15.450000</td>\n",
       "      <td>73.400000</td>\n",
       "    </tr>\n",
       "    <tr>\n",
       "      <th>50%</th>\n",
       "      <td>16.000000</td>\n",
       "      <td>80.600000</td>\n",
       "    </tr>\n",
       "    <tr>\n",
       "      <th>75%</th>\n",
       "      <td>17.150000</td>\n",
       "      <td>83.400000</td>\n",
       "    </tr>\n",
       "    <tr>\n",
       "      <th>max</th>\n",
       "      <td>20.000000</td>\n",
       "      <td>93.300000</td>\n",
       "    </tr>\n",
       "  </tbody>\n",
       "</table>\n",
       "</div>"
      ],
      "text/plain": [
       "       Chirps/Second  Ground Temperature\n",
       "count      15.000000           15.000000\n",
       "mean       16.566667           79.346667\n",
       "std         1.712837            7.020467\n",
       "min        14.400000           69.400000\n",
       "25%        15.450000           73.400000\n",
       "50%        16.000000           80.600000\n",
       "75%        17.150000           83.400000\n",
       "max        20.000000           93.300000"
      ]
     },
     "execution_count": 5,
     "metadata": {},
     "output_type": "execute_result"
    }
   ],
   "source": [
    "df.describe()"
   ]
  },
  {
   "cell_type": "code",
   "execution_count": 6,
   "id": "c3f3a199",
   "metadata": {},
   "outputs": [
    {
     "data": {
      "text/plain": [
       "(15, 2)"
      ]
     },
     "execution_count": 6,
     "metadata": {},
     "output_type": "execute_result"
    }
   ],
   "source": [
    "df.shape"
   ]
  },
  {
   "cell_type": "code",
   "execution_count": 7,
   "id": "872e1711",
   "metadata": {},
   "outputs": [
    {
     "data": {
      "image/png": "[encoded data removed]",
      "text/plain": [
       "<Figure size 432x288 with 1 Axes>"
      ]
     },
     "metadata": {
      "needs_background": "light"
     },
     "output_type": "display_data"
    }
   ],
   "source": [
    "df.plot(x='Chirps/Second', y='Ground Temperature', style='o')\n",
    "\n",
    "plt.show()"
   ]
  },
  {
   "cell_type": "code",
   "execution_count": 8,
   "id": "b03121d2",
   "metadata": {},
   "outputs": [
    {
     "data": {
      "text/plain": [
       "<AxesSubplot:xlabel='Chirps/Second', ylabel='Ground Temperature'>"
      ]
     },
     "execution_count": 8,
     "metadata": {},
     "output_type": "execute_result"
    },
    {
     "data": {
      "image/png": "[encoded data removed]",
      "text/plain": [
       "<Figure size 432x288 with 1 Axes>"
      ]
     },
     "metadata": {
      "needs_background": "light"
     },
     "output_type": "display_data"
    }
   ],
   "source": [
    "import seaborn as sns\n",
    "sns.violinplot(x='Chirps/Second', y='Ground Temperature', data=df)"
   ]
  },
  {
   "cell_type": "code",
   "execution_count": 9,
   "id": "d44303c9",
   "metadata": {},
   "outputs": [
    {
     "data": {
      "text/html": [
       "<div>\n",
       "<style scoped>\n",
       "    .dataframe tbody tr th:only-of-type {\n",
       "        vertical-align: middle;\n",
       "    }\n",
       "\n",
       "    .dataframe tbody tr th {\n",
       "        vertical-align: top;\n",
       "    }\n",
       "\n",
       "    .dataframe thead th {\n",
       "        text-align: right;\n",
       "    }\n",
       "</style>\n",
       "<table border=\"1\" class=\"dataframe\">\n",
       "  <thead>\n",
       "    <tr style=\"text-align: right;\">\n",
       "      <th></th>\n",
       "      <th>Chirps/Second</th>\n",
       "      <th>Ground Temperature</th>\n",
       "    </tr>\n",
       "  </thead>\n",
       "  <tbody>\n",
       "    <tr>\n",
       "      <th>Chirps/Second</th>\n",
       "      <td>1.000000</td>\n",
       "      <td>0.832042</td>\n",
       "    </tr>\n",
       "    <tr>\n",
       "      <th>Ground Temperature</th>\n",
       "      <td>0.832042</td>\n",
       "      <td>1.000000</td>\n",
       "    </tr>\n",
       "  </tbody>\n",
       "</table>\n",
       "</div>"
      ],
      "text/plain": [
       "                    Chirps/Second  Ground Temperature\n",
       "Chirps/Second            1.000000            0.832042\n",
       "Ground Temperature       0.832042            1.000000"
      ]
     },
     "execution_count": 9,
     "metadata": {},
     "output_type": "execute_result"
    }
   ],
   "source": [
    "df.corr()"
   ]
  },
  {
   "cell_type": "code",
   "execution_count": 10,
   "id": "07a49d77",
   "metadata": {},
   "outputs": [
    {
     "data": {
      "text/plain": [
       "0     88.6\n",
       "1     71.6\n",
       "2     93.3\n",
       "3     84.3\n",
       "4     80.6\n",
       "5     75.2\n",
       "6     69.7\n",
       "7     71.6\n",
       "8     69.4\n",
       "9     83.3\n",
       "10    79.6\n",
       "11    82.6\n",
       "12    80.6\n",
       "13    83.5\n",
       "14    76.3\n",
       "Name: Ground Temperature, dtype: float64"
      ]
     },
     "execution_count": 10,
     "metadata": {},
     "output_type": "execute_result"
    }
   ],
   "source": [
    "y = df.iloc[:, -1]\n",
    "y"
   ]
  },
  {
   "cell_type": "code",
   "execution_count": 11,
   "id": "ddf7e0d6",
   "metadata": {},
   "outputs": [],
   "source": [
    "X = df.iloc[:, :-1].values \n",
    "y = df.iloc[:, 1].values \n",
    "# Syntax : dataset.loc[:, :-1]\n",
    "from sklearn.model_selection import train_test_split \n",
    "X_train, X_test, y_train, y_test = train_test_split(X, y, test_size=0.4, random_state = 5)"
   ]
  },
  {
   "cell_type": "code",
   "execution_count": 12,
   "id": "47ad38d5",
   "metadata": {},
   "outputs": [
    {
     "data": {
      "text/plain": [
       "LinearRegression()"
      ]
     },
     "execution_count": 12,
     "metadata": {},
     "output_type": "execute_result"
    }
   ],
   "source": [
    "# Find the linear regression equation for this data.\n",
    "from sklearn.linear_model import LinearRegression \n",
    "regressor = LinearRegression() \n",
    "\"Symtax : varName = ModelName(modelHyperParams)\"\n",
    "regressor.fit(X_train, y_train)"
   ]
  },
  {
   "cell_type": "code",
   "execution_count": 13,
   "id": "1493ec9c",
   "metadata": {},
   "outputs": [
    {
     "data": {
      "text/plain": [
       "array([75.42413074, 77.16154437, 76.11909619, 90.3658879 , 73.68671712,\n",
       "       71.60182077])"
      ]
     },
     "execution_count": 13,
     "metadata": {},
     "output_type": "execute_result"
    }
   ],
   "source": [
    "y_pred = regressor.predict(X_test) # given the features of the test dataset, it will give the final predictions\n",
    "\"Syntax : varName.predict(test_features)\"\n",
    "y_pred"
   ]
  },
  {
   "cell_type": "markdown",
   "id": "97c19f79",
   "metadata": {},
   "source": [
    "2. Chart the original data and the equation on the chart.\n"
   ]
  },
  {
   "cell_type": "code",
   "execution_count": 14,
   "id": "4840eae3",
   "metadata": {},
   "outputs": [
    {
     "data": {
      "text/html": [
       "<div>\n",
       "<style scoped>\n",
       "    .dataframe tbody tr th:only-of-type {\n",
       "        vertical-align: middle;\n",
       "    }\n",
       "\n",
       "    .dataframe tbody tr th {\n",
       "        vertical-align: top;\n",
       "    }\n",
       "\n",
       "    .dataframe thead th {\n",
       "        text-align: right;\n",
       "    }\n",
       "</style>\n",
       "<table border=\"1\" class=\"dataframe\">\n",
       "  <thead>\n",
       "    <tr style=\"text-align: right;\">\n",
       "      <th></th>\n",
       "      <th>Actual</th>\n",
       "      <th>Predicted</th>\n",
       "    </tr>\n",
       "  </thead>\n",
       "  <tbody>\n",
       "    <tr>\n",
       "      <th>0</th>\n",
       "      <td>75.2</td>\n",
       "      <td>75.424131</td>\n",
       "    </tr>\n",
       "    <tr>\n",
       "      <th>1</th>\n",
       "      <td>71.6</td>\n",
       "      <td>77.161544</td>\n",
       "    </tr>\n",
       "    <tr>\n",
       "      <th>2</th>\n",
       "      <td>71.6</td>\n",
       "      <td>76.119096</td>\n",
       "    </tr>\n",
       "    <tr>\n",
       "      <th>3</th>\n",
       "      <td>93.3</td>\n",
       "      <td>90.365888</td>\n",
       "    </tr>\n",
       "    <tr>\n",
       "      <th>4</th>\n",
       "      <td>79.6</td>\n",
       "      <td>73.686717</td>\n",
       "    </tr>\n",
       "    <tr>\n",
       "      <th>5</th>\n",
       "      <td>76.3</td>\n",
       "      <td>71.601821</td>\n",
       "    </tr>\n",
       "  </tbody>\n",
       "</table>\n",
       "</div>"
      ],
      "text/plain": [
       "   Actual  Predicted\n",
       "0    75.2  75.424131\n",
       "1    71.6  77.161544\n",
       "2    71.6  76.119096\n",
       "3    93.3  90.365888\n",
       "4    79.6  73.686717\n",
       "5    76.3  71.601821"
      ]
     },
     "execution_count": 14,
     "metadata": {},
     "output_type": "execute_result"
    }
   ],
   "source": [
    "df1 = pd.DataFrame({'Actual': y_test, 'Predicted': y_pred})\n",
    "df1"
   ]
  },
  {
   "cell_type": "code",
   "execution_count": 19,
   "id": "10a1b7b6",
   "metadata": {},
   "outputs": [
    {
     "data": {
      "image/png": "[encoded data removed]",
      "text/plain": [
       "<Figure size 360x360 with 1 Axes>"
      ]
     },
     "metadata": {
      "needs_background": "light"
     },
     "output_type": "display_data"
    }
   ],
   "source": [
    "#changing size of plot\n",
    "plt.figure(figsize=(5,5))\n",
    "plt.ylabel(\"Ground Temperature\")\n",
    "plt.xlabel(\"Chirps/Second\")\n",
    "plt.scatter(X_test,y_test,color =\"r\",label = \"actual\",marker = \"*\")\n",
    "plt.scatter(X_test,y_pred,color =\"b\",label = \"predicted\",marker = \"*\")\n",
    "plt.title(\"Actual_Vs_Predicted\")\n",
    "\n",
    "#adding legend\n",
    "plt.legend()\n",
    "plt.show()"
   ]
  },
  {
   "cell_type": "markdown",
   "id": "8bba36fa",
   "metadata": {},
   "source": [
    "3. Find the equation's  R2  score (use the .score method) to determine whether the equation is a good fit for this data. (0.8 and greater is considered a strong correlation.)\n"
   ]
  },
  {
   "cell_type": "code",
   "execution_count": 15,
   "id": "8b4134c4",
   "metadata": {},
   "outputs": [
    {
     "name": "stdout",
     "output_type": "stream",
     "text": [
      "R2- SCORE: 0.6445140096604121\n"
     ]
    }
   ],
   "source": [
    "from sklearn import metrics \n",
    "print('R2- SCORE:', metrics.r2_score(y_test,y_pred))"
   ]
  },
  {
   "cell_type": "markdown",
   "id": "042420ac",
   "metadata": {},
   "source": [
    "4. Extrapolate data: If the ground temperature reached 95, then at what approximate rate would you expect the crickets to be chirping?"
   ]
  },
  {
   "cell_type": "code",
   "execution_count": 16,
   "id": "57e52039",
   "metadata": {},
   "outputs": [],
   "source": [
    "c = regressor.intercept_\n",
    "m = regressor.coef_"
   ]
  },
  {
   "cell_type": "code",
   "execution_count": 17,
   "id": "6088e427",
   "metadata": {},
   "outputs": [
    {
     "data": {
      "text/plain": [
       "array([21.13362374])"
      ]
     },
     "execution_count": 17,
     "metadata": {},
     "output_type": "execute_result"
    }
   ],
   "source": [
    "x = (95-c) / m \n",
    "x"
   ]
  },
  {
   "cell_type": "markdown",
   "id": "825789ac",
   "metadata": {},
   "source": [
    "5. Interpolate data: With a listening device, you discovered that on a particular morning the crickets were chirping at a rate of 18 chirps per second. What was the approximate ground temperature that morning?"
   ]
  },
  {
   "cell_type": "code",
   "execution_count": 18,
   "id": "e6de9970",
   "metadata": {},
   "outputs": [
    {
     "data": {
      "text/plain": [
       "array([84.11119886])"
      ]
     },
     "execution_count": 18,
     "metadata": {},
     "output_type": "execute_result"
    }
   ],
   "source": [
    "regressor.predict([[18]])"
   ]
  }
 ],
 "metadata": {
  "kernelspec": {
   "display_name": "Python 3",
   "language": "python",
   "name": "python3"
  },
  "language_info": {
   "codemirror_mode": {
    "name": "ipython",
    "version": 3
   },
   "file_extension": ".py",
   "mimetype": "text/x-python",
   "name": "python",
   "nbconvert_exporter": "python",
   "pygments_lexer": "ipython3",
   "version": "3.8.8"
  }
 },
 "nbformat": 4,
 "nbformat_minor": 5
}
